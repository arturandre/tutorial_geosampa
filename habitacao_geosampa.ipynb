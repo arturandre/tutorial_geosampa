{
 "cells": [
  {
   "cell_type": "code",
   "execution_count": 2,
   "metadata": {},
   "outputs": [],
   "source": [
    "import geopandas as gpd\n",
    "import geoplot as gplt"
   ]
  },
  {
   "cell_type": "markdown",
   "metadata": {},
   "source": [
    "# Árvores\n",
    "\n",
    "Primeiro precisamos fazer o download dos arquivos 'shapefile' ([link](http://geosampa.prefeitura.sp.gov.br/PaginasPublicas/downloadIfr.aspx?orig=DownloadCamadas&arq=09_Verde%20e%20Recursos%20Naturais%5C%5CArboriza%E7%E3o%20Vi%E1ria%5C%5CShapefile%5C%5CSIRGAS_SHP_arvore&arqTipo=Shapefile)).\n",
    "\n",
    "No código abaixo os conteúdos do arquivo zip foram extraídos numa pasta chamada\n",
    "`SIRGAS_SHP_arvores`."
   ]
  },
  {
   "cell_type": "markdown",
   "metadata": {},
   "source": [
    "Aqui usaremos o geopandas (um tipo de extensão do pandas) para ler os dados\n",
    "de posições de árvores do arquivo shapefile em si `.shp`. Note que também\n",
    "fazemos uso do arquivo de projeção `.prj` que denota o sistema de coordenadas (`CRS`)\n",
    "usado no arquivo shapefile, qual modelo (datum) está sendo usado\n",
    "para caracterizar o planeta terra (=D) e também qual o alcance desse `CRS` (um `CRS` não precisa necessariamente abordar todo o planeta).\n",
    "\n",
    "A parte do encoding é importante pois temos caracteres com acentuação."
   ]
  },
  {
   "cell_type": "code",
   "execution_count": 40,
   "metadata": {},
   "outputs": [],
   "source": [
    "arvore_df = gpd.read_file('SIRGAS_SHP_arvores/SIRGAS_SHP_arvore_.shp',\n",
    "                       encoding='utf-8',\n",
    "                      crs='SIRGAS_SHP_arvores/SIRGAS_SHP_arvore_.prj')"
   ]
  },
  {
   "cell_type": "markdown",
   "metadata": {},
   "source": [
    "Aqui podemos explorar um pouco dos dados e entender quais campos compõem este dataset. Note que além do campo `geometry` que contém as coordenadas das árvores também temos outros campos indicando uma localização textual `av_subpref`, `av_distr` e outros campos que no momento eu desconheço o significado. Contudo a equipe do geosampa tem sido super diligente e atende super rapidamente ao contato em caso de dúvidas.\n",
    "\n",
    "Note em particular que o `CRS` não é o **wgs84** (p. ex. o que costumamos ver no google street view) aqui está sendo usado (como indicado no arquivo de projeção `.prj`) um outro `CRS` chamado **SIRGAS_2000_UTM_Zone_23S**. Pelo que eu vi todo `CRS` tem um código EPSG (um catalogo com códigos para padronização de diferentes sistemas de coordenadas).\n",
    "\n",
    "Aparentemente todos os dados do GeoSampa usam o `CRS` **SIRGAS_2000_UTM_Zone_23S** cujo código EPSG é **epsg:31983**. O código EPSG do `CRS` **wgs84** é **epsg:4326**."
   ]
  },
  {
   "cell_type": "code",
   "execution_count": 43,
   "metadata": {},
   "outputs": [
    {
     "data": {
      "text/html": [
       "<div>\n",
       "<style scoped>\n",
       "    .dataframe tbody tr th:only-of-type {\n",
       "        vertical-align: middle;\n",
       "    }\n",
       "\n",
       "    .dataframe tbody tr th {\n",
       "        vertical-align: top;\n",
       "    }\n",
       "\n",
       "    .dataframe thead th {\n",
       "        text-align: right;\n",
       "    }\n",
       "</style>\n",
       "<table border=\"1\" class=\"dataframe\">\n",
       "  <thead>\n",
       "    <tr style=\"text-align: right;\">\n",
       "      <th></th>\n",
       "      <th>av_subpref</th>\n",
       "      <th>av_distr</th>\n",
       "      <th>av_sisgau</th>\n",
       "      <th>av_codlog</th>\n",
       "      <th>av_codlogd</th>\n",
       "      <th>av_base</th>\n",
       "      <th>geometry</th>\n",
       "    </tr>\n",
       "  </thead>\n",
       "  <tbody>\n",
       "    <tr>\n",
       "      <th>0</th>\n",
       "      <td>VILA MARIANA</td>\n",
       "      <td>MOEMA</td>\n",
       "      <td>None</td>\n",
       "      <td>38836</td>\n",
       "      <td>0</td>\n",
       "      <td>ORTOFOTOS EMPLASA</td>\n",
       "      <td>POINT (329187.277 7387899.634)</td>\n",
       "    </tr>\n",
       "    <tr>\n",
       "      <th>1</th>\n",
       "      <td>VILA MARIANA</td>\n",
       "      <td>MOEMA</td>\n",
       "      <td>None</td>\n",
       "      <td>38836</td>\n",
       "      <td>0</td>\n",
       "      <td>ORTOFOTOS EMPLASA</td>\n",
       "      <td>POINT (329181.760 7387904.182)</td>\n",
       "    </tr>\n",
       "    <tr>\n",
       "      <th>2</th>\n",
       "      <td>VILA MARIANA</td>\n",
       "      <td>MOEMA</td>\n",
       "      <td>None</td>\n",
       "      <td>38836</td>\n",
       "      <td>0</td>\n",
       "      <td>ORTOFOTOS EMPLASA</td>\n",
       "      <td>POINT (329172.255 7387912.306)</td>\n",
       "    </tr>\n",
       "    <tr>\n",
       "      <th>3</th>\n",
       "      <td>VILA MARIANA</td>\n",
       "      <td>MOEMA</td>\n",
       "      <td>None</td>\n",
       "      <td>38836</td>\n",
       "      <td>0</td>\n",
       "      <td>ORTOFOTOS EMPLASA</td>\n",
       "      <td>POINT (329159.687 7387922.700)</td>\n",
       "    </tr>\n",
       "    <tr>\n",
       "      <th>4</th>\n",
       "      <td>VILA MARIANA</td>\n",
       "      <td>MOEMA</td>\n",
       "      <td>None</td>\n",
       "      <td>38836</td>\n",
       "      <td>0</td>\n",
       "      <td>ORTOFOTOS EMPLASA</td>\n",
       "      <td>POINT (329164.589 7387918.805)</td>\n",
       "    </tr>\n",
       "    <tr>\n",
       "      <th>...</th>\n",
       "      <td>...</td>\n",
       "      <td>...</td>\n",
       "      <td>...</td>\n",
       "      <td>...</td>\n",
       "      <td>...</td>\n",
       "      <td>...</td>\n",
       "      <td>...</td>\n",
       "    </tr>\n",
       "    <tr>\n",
       "      <th>652380</th>\n",
       "      <td>VILA MARIANA</td>\n",
       "      <td>MOEMA</td>\n",
       "      <td>None</td>\n",
       "      <td>07708</td>\n",
       "      <td>9</td>\n",
       "      <td>ORTOFOTOS EMPLASA</td>\n",
       "      <td>POINT (329191.427 7387882.223)</td>\n",
       "    </tr>\n",
       "    <tr>\n",
       "      <th>652381</th>\n",
       "      <td>VILA MARIANA</td>\n",
       "      <td>MOEMA</td>\n",
       "      <td>None</td>\n",
       "      <td>38836</td>\n",
       "      <td>0</td>\n",
       "      <td>ORTOFOTOS EMPLASA</td>\n",
       "      <td>POINT (329188.238 7387895.363)</td>\n",
       "    </tr>\n",
       "    <tr>\n",
       "      <th>652382</th>\n",
       "      <td>VILA MARIANA</td>\n",
       "      <td>MOEMA</td>\n",
       "      <td>None</td>\n",
       "      <td>07708</td>\n",
       "      <td>9</td>\n",
       "      <td>ORTOFOTOS EMPLASA</td>\n",
       "      <td>POINT (329184.957 7387890.383)</td>\n",
       "    </tr>\n",
       "    <tr>\n",
       "      <th>652383</th>\n",
       "      <td>VILA MARIANA</td>\n",
       "      <td>MOEMA</td>\n",
       "      <td>None</td>\n",
       "      <td>38836</td>\n",
       "      <td>0</td>\n",
       "      <td>ORTOFOTOS EMPLASA</td>\n",
       "      <td>POINT (329158.291 7387860.423)</td>\n",
       "    </tr>\n",
       "    <tr>\n",
       "      <th>652384</th>\n",
       "      <td>VILA MARIANA</td>\n",
       "      <td>MOEMA</td>\n",
       "      <td>None</td>\n",
       "      <td>38836</td>\n",
       "      <td>0</td>\n",
       "      <td>ORTOFOTOS EMPLASA</td>\n",
       "      <td>POINT (329162.195 7387864.092)</td>\n",
       "    </tr>\n",
       "  </tbody>\n",
       "</table>\n",
       "<p>652385 rows × 7 columns</p>\n",
       "</div>"
      ],
      "text/plain": [
       "          av_subpref av_distr av_sisgau av_codlog av_codlogd  \\\n",
       "0       VILA MARIANA    MOEMA      None     38836          0   \n",
       "1       VILA MARIANA    MOEMA      None     38836          0   \n",
       "2       VILA MARIANA    MOEMA      None     38836          0   \n",
       "3       VILA MARIANA    MOEMA      None     38836          0   \n",
       "4       VILA MARIANA    MOEMA      None     38836          0   \n",
       "...              ...      ...       ...       ...        ...   \n",
       "652380  VILA MARIANA    MOEMA      None     07708          9   \n",
       "652381  VILA MARIANA    MOEMA      None     38836          0   \n",
       "652382  VILA MARIANA    MOEMA      None     07708          9   \n",
       "652383  VILA MARIANA    MOEMA      None     38836          0   \n",
       "652384  VILA MARIANA    MOEMA      None     38836          0   \n",
       "\n",
       "                  av_base                        geometry  \n",
       "0       ORTOFOTOS EMPLASA  POINT (329187.277 7387899.634)  \n",
       "1       ORTOFOTOS EMPLASA  POINT (329181.760 7387904.182)  \n",
       "2       ORTOFOTOS EMPLASA  POINT (329172.255 7387912.306)  \n",
       "3       ORTOFOTOS EMPLASA  POINT (329159.687 7387922.700)  \n",
       "4       ORTOFOTOS EMPLASA  POINT (329164.589 7387918.805)  \n",
       "...                   ...                             ...  \n",
       "652380  ORTOFOTOS EMPLASA  POINT (329191.427 7387882.223)  \n",
       "652381  ORTOFOTOS EMPLASA  POINT (329188.238 7387895.363)  \n",
       "652382  ORTOFOTOS EMPLASA  POINT (329184.957 7387890.383)  \n",
       "652383  ORTOFOTOS EMPLASA  POINT (329158.291 7387860.423)  \n",
       "652384  ORTOFOTOS EMPLASA  POINT (329162.195 7387864.092)  \n",
       "\n",
       "[652385 rows x 7 columns]"
      ]
     },
     "execution_count": 43,
     "metadata": {},
     "output_type": "execute_result"
    }
   ],
   "source": [
    "arvore_df"
   ]
  },
  {
   "cell_type": "markdown",
   "metadata": {},
   "source": [
    "Como carregamos o arquivo de projeção juntamente ao arquivo shapefile podemos verificar qual o `CRS` associado à este dataset:"
   ]
  },
  {
   "cell_type": "code",
   "execution_count": 45,
   "metadata": {},
   "outputs": [
    {
     "data": {
      "text/plain": [
       "{'init': 'epsg:31983'}"
      ]
     },
     "execution_count": 45,
     "metadata": {},
     "output_type": "execute_result"
    }
   ],
   "source": [
    "arvore_df.crs"
   ]
  },
  {
   "cell_type": "markdown",
   "metadata": {},
   "source": [
    "Aparentemente temos (em 15/01/2021) um bug com o geopandas e se deixarmos o `CRS` com o formato atual ele irá quebrar. Então precisamos simplificar o campo `CRS` colocando-o da seguinte forma:"
   ]
  },
  {
   "cell_type": "code",
   "execution_count": 46,
   "metadata": {},
   "outputs": [
    {
     "name": "stdout",
     "output_type": "stream",
     "text": [
      "epsg:31983\n"
     ]
    }
   ],
   "source": [
    "arvore_df.crs = 'epsg:31983'\n",
    "print(arvore_df.crs)"
   ]
  },
  {
   "cell_type": "markdown",
   "metadata": {},
   "source": [
    "A maior parte das bibliotecas e frameworks de GIS que eu vi até agora usam o `CRS` **wgs84/epsg:4326**, se tentarmos usar dados com uma projeção em um sistema que por padrão assume outra projeção dos dados teremos distorções ou efeitos inesperados, para simplificar o tratamento dos dados uma possibilidade é sempre se converter a projeção de todos os dados para **epsg:4326** como feito abaixo:"
   ]
  },
  {
   "cell_type": "code",
   "execution_count": 47,
   "metadata": {},
   "outputs": [
    {
     "name": "stdout",
     "output_type": "stream",
     "text": [
      "epsg:4326\n"
     ]
    }
   ],
   "source": [
    "arvore_df = arvore_df.to_crs('epsg:4326')\n",
    "\n",
    "# Note que agora o CRS é o epsg:4326\n",
    "print(arvore_df.crs)"
   ]
  },
  {
   "cell_type": "markdown",
   "metadata": {},
   "source": [
    "Vemos que o valor das coordenadas muda drasticamente, no `CRS` anterior as coordenadas assumiam valores na faixa de 300 mil/7 milhões, enquanto que agora temos as coordenadas de -46 de longitude (46 oeste) e -23 de latitude (23 sul)."
   ]
  },
  {
   "cell_type": "code",
   "execution_count": 48,
   "metadata": {},
   "outputs": [
    {
     "data": {
      "text/html": [
       "<div>\n",
       "<style scoped>\n",
       "    .dataframe tbody tr th:only-of-type {\n",
       "        vertical-align: middle;\n",
       "    }\n",
       "\n",
       "    .dataframe tbody tr th {\n",
       "        vertical-align: top;\n",
       "    }\n",
       "\n",
       "    .dataframe thead th {\n",
       "        text-align: right;\n",
       "    }\n",
       "</style>\n",
       "<table border=\"1\" class=\"dataframe\">\n",
       "  <thead>\n",
       "    <tr style=\"text-align: right;\">\n",
       "      <th></th>\n",
       "      <th>av_subpref</th>\n",
       "      <th>av_distr</th>\n",
       "      <th>av_sisgau</th>\n",
       "      <th>av_codlog</th>\n",
       "      <th>av_codlogd</th>\n",
       "      <th>av_base</th>\n",
       "      <th>geometry</th>\n",
       "    </tr>\n",
       "  </thead>\n",
       "  <tbody>\n",
       "    <tr>\n",
       "      <th>0</th>\n",
       "      <td>VILA MARIANA</td>\n",
       "      <td>MOEMA</td>\n",
       "      <td>None</td>\n",
       "      <td>38836</td>\n",
       "      <td>0</td>\n",
       "      <td>ORTOFOTOS EMPLASA</td>\n",
       "      <td>POINT (-46.67423 -23.61046)</td>\n",
       "    </tr>\n",
       "    <tr>\n",
       "      <th>1</th>\n",
       "      <td>VILA MARIANA</td>\n",
       "      <td>MOEMA</td>\n",
       "      <td>None</td>\n",
       "      <td>38836</td>\n",
       "      <td>0</td>\n",
       "      <td>ORTOFOTOS EMPLASA</td>\n",
       "      <td>POINT (-46.67428 -23.61042)</td>\n",
       "    </tr>\n",
       "    <tr>\n",
       "      <th>2</th>\n",
       "      <td>VILA MARIANA</td>\n",
       "      <td>MOEMA</td>\n",
       "      <td>None</td>\n",
       "      <td>38836</td>\n",
       "      <td>0</td>\n",
       "      <td>ORTOFOTOS EMPLASA</td>\n",
       "      <td>POINT (-46.67437 -23.61035)</td>\n",
       "    </tr>\n",
       "    <tr>\n",
       "      <th>3</th>\n",
       "      <td>VILA MARIANA</td>\n",
       "      <td>MOEMA</td>\n",
       "      <td>None</td>\n",
       "      <td>38836</td>\n",
       "      <td>0</td>\n",
       "      <td>ORTOFOTOS EMPLASA</td>\n",
       "      <td>POINT (-46.67449 -23.61025)</td>\n",
       "    </tr>\n",
       "    <tr>\n",
       "      <th>4</th>\n",
       "      <td>VILA MARIANA</td>\n",
       "      <td>MOEMA</td>\n",
       "      <td>None</td>\n",
       "      <td>38836</td>\n",
       "      <td>0</td>\n",
       "      <td>ORTOFOTOS EMPLASA</td>\n",
       "      <td>POINT (-46.67445 -23.61029)</td>\n",
       "    </tr>\n",
       "    <tr>\n",
       "      <th>...</th>\n",
       "      <td>...</td>\n",
       "      <td>...</td>\n",
       "      <td>...</td>\n",
       "      <td>...</td>\n",
       "      <td>...</td>\n",
       "      <td>...</td>\n",
       "      <td>...</td>\n",
       "    </tr>\n",
       "    <tr>\n",
       "      <th>652380</th>\n",
       "      <td>VILA MARIANA</td>\n",
       "      <td>MOEMA</td>\n",
       "      <td>None</td>\n",
       "      <td>07708</td>\n",
       "      <td>9</td>\n",
       "      <td>ORTOFOTOS EMPLASA</td>\n",
       "      <td>POINT (-46.67419 -23.61062)</td>\n",
       "    </tr>\n",
       "    <tr>\n",
       "      <th>652381</th>\n",
       "      <td>VILA MARIANA</td>\n",
       "      <td>MOEMA</td>\n",
       "      <td>None</td>\n",
       "      <td>38836</td>\n",
       "      <td>0</td>\n",
       "      <td>ORTOFOTOS EMPLASA</td>\n",
       "      <td>POINT (-46.67422 -23.61050)</td>\n",
       "    </tr>\n",
       "    <tr>\n",
       "      <th>652382</th>\n",
       "      <td>VILA MARIANA</td>\n",
       "      <td>MOEMA</td>\n",
       "      <td>None</td>\n",
       "      <td>07708</td>\n",
       "      <td>9</td>\n",
       "      <td>ORTOFOTOS EMPLASA</td>\n",
       "      <td>POINT (-46.67425 -23.61055)</td>\n",
       "    </tr>\n",
       "    <tr>\n",
       "      <th>652383</th>\n",
       "      <td>VILA MARIANA</td>\n",
       "      <td>MOEMA</td>\n",
       "      <td>None</td>\n",
       "      <td>38836</td>\n",
       "      <td>0</td>\n",
       "      <td>ORTOFOTOS EMPLASA</td>\n",
       "      <td>POINT (-46.67452 -23.61082)</td>\n",
       "    </tr>\n",
       "    <tr>\n",
       "      <th>652384</th>\n",
       "      <td>VILA MARIANA</td>\n",
       "      <td>MOEMA</td>\n",
       "      <td>None</td>\n",
       "      <td>38836</td>\n",
       "      <td>0</td>\n",
       "      <td>ORTOFOTOS EMPLASA</td>\n",
       "      <td>POINT (-46.67448 -23.61078)</td>\n",
       "    </tr>\n",
       "  </tbody>\n",
       "</table>\n",
       "<p>652385 rows × 7 columns</p>\n",
       "</div>"
      ],
      "text/plain": [
       "          av_subpref av_distr av_sisgau av_codlog av_codlogd  \\\n",
       "0       VILA MARIANA    MOEMA      None     38836          0   \n",
       "1       VILA MARIANA    MOEMA      None     38836          0   \n",
       "2       VILA MARIANA    MOEMA      None     38836          0   \n",
       "3       VILA MARIANA    MOEMA      None     38836          0   \n",
       "4       VILA MARIANA    MOEMA      None     38836          0   \n",
       "...              ...      ...       ...       ...        ...   \n",
       "652380  VILA MARIANA    MOEMA      None     07708          9   \n",
       "652381  VILA MARIANA    MOEMA      None     38836          0   \n",
       "652382  VILA MARIANA    MOEMA      None     07708          9   \n",
       "652383  VILA MARIANA    MOEMA      None     38836          0   \n",
       "652384  VILA MARIANA    MOEMA      None     38836          0   \n",
       "\n",
       "                  av_base                     geometry  \n",
       "0       ORTOFOTOS EMPLASA  POINT (-46.67423 -23.61046)  \n",
       "1       ORTOFOTOS EMPLASA  POINT (-46.67428 -23.61042)  \n",
       "2       ORTOFOTOS EMPLASA  POINT (-46.67437 -23.61035)  \n",
       "3       ORTOFOTOS EMPLASA  POINT (-46.67449 -23.61025)  \n",
       "4       ORTOFOTOS EMPLASA  POINT (-46.67445 -23.61029)  \n",
       "...                   ...                          ...  \n",
       "652380  ORTOFOTOS EMPLASA  POINT (-46.67419 -23.61062)  \n",
       "652381  ORTOFOTOS EMPLASA  POINT (-46.67422 -23.61050)  \n",
       "652382  ORTOFOTOS EMPLASA  POINT (-46.67425 -23.61055)  \n",
       "652383  ORTOFOTOS EMPLASA  POINT (-46.67452 -23.61082)  \n",
       "652384  ORTOFOTOS EMPLASA  POINT (-46.67448 -23.61078)  \n",
       "\n",
       "[652385 rows x 7 columns]"
      ]
     },
     "execution_count": 48,
     "metadata": {},
     "output_type": "execute_result"
    }
   ],
   "source": [
    "arvore_df"
   ]
  },
  {
   "cell_type": "markdown",
   "metadata": {},
   "source": [
    "Podemos agora visualizar a distribuição espacial destas ~652 mil árvores usando o `geoplot`:\n",
    "\n",
    "**!! Pode demorar um pouco para carregar dado o número de pontos !!**"
   ]
  },
  {
   "cell_type": "code",
   "execution_count": 49,
   "metadata": {},
   "outputs": [
    {
     "data": {
      "text/plain": [
       "<matplotlib.axes._subplots.AxesSubplot at 0x26ea0ea6f98>"
      ]
     },
     "execution_count": 49,
     "metadata": {},
     "output_type": "execute_result"
    },
    {
     "data": {
      "image/png": "[encoded data removed]",
      "text/plain": [
       "<Figure size 576x432 with 1 Axes>"
      ]
     },
     "metadata": {
      "needs_background": "light"
     },
     "output_type": "display_data"
    }
   ],
   "source": [
    "#https://residentmario.github.io/geoplot/plot_references/plot_reference.html\n",
    "gplt.pointplot(arvore_df)"
   ]
  },
  {
   "cell_type": "markdown",
   "metadata": {},
   "source": [
    "Aqui podemos ver que algo está um pouco estranho, pois temos um 'blob' de pontos à direita e algo muito distante à esquerda.\n",
    "\n",
    "Vamos averiguar qual o alcance das coordenadas dos dados."
   ]
  },
  {
   "cell_type": "code",
   "execution_count": 50,
   "metadata": {},
   "outputs": [
    {
     "name": "stdout",
     "output_type": "stream",
     "text": [
      "             minx       miny       maxx       maxy\n",
      "0      -46.674227 -23.610464 -46.674227 -23.610464\n",
      "1      -46.674281 -23.610423 -46.674281 -23.610423\n",
      "2      -46.674373 -23.610348 -46.674373 -23.610348\n",
      "3      -46.674495 -23.610253 -46.674495 -23.610253\n",
      "4      -46.674447 -23.610289 -46.674447 -23.610289\n",
      "...           ...        ...        ...        ...\n",
      "652380 -46.674189 -23.610622 -46.674189 -23.610622\n",
      "652381 -46.674218 -23.610503 -46.674218 -23.610503\n",
      "652382 -46.674251 -23.610548 -46.674251 -23.610548\n",
      "652383 -46.674516 -23.610815 -46.674516 -23.610815\n",
      "652384 -46.674477 -23.610783 -46.674477 -23.610783\n",
      "\n",
      "[652385 rows x 4 columns]\n"
     ]
    }
   ],
   "source": [
    "# Bounds representa para cada entrada qual a coordenada máxima/mínima em questão dos eixos x e y.\n",
    "# Como cada entrada é um ponto teremos 'minx e maxx' iguais assim como 'miny e maxy' para cada entrada.\n",
    "bounds = arvore_df.bounds\n",
    "print(bounds)"
   ]
  },
  {
   "cell_type": "markdown",
   "metadata": {},
   "source": [
    "Podemos notar abaixo que o menor valor de 'x' (-130°) está muito abaixo do que esperamos para São Paulo (-46°)\n",
    "Além disso também vemos que o menor 'y' (-43°) também está bem abaixo do esperado (-23°).\n",
    "\n",
    "Para termos uma ideia, cada grau de latitude corresponde mais ou menos à 111 km, ou seja, temos algum(ns) ponto(s) à mais de 2000 km para o sul do que é esperado para São Paulo!"
   ]
  },
  {
   "cell_type": "code",
   "execution_count": 55,
   "metadata": {},
   "outputs": [
    {
     "name": "stdout",
     "output_type": "stream",
     "text": [
      "Menor longitude (x): -130.6565801170646\n",
      "Maior longitude (x): -46.36534806318919\n",
      "Menor latitude (y): -43.21817053895778\n",
      "Maior latitude (y): -23.38859808117378\n"
     ]
    }
   ],
   "source": [
    "# Agora vamos verificar qual o valor mínimo e máximo das coordenadas x e y:\n",
    "print(f\"Menor longitude (x): {np.min(bounds['minx'])}\")\n",
    "print(f\"Maior longitude (x): {np.max(bounds['maxx'])}\")\n",
    "print(f\"Menor latitude (y): {np.min(bounds['miny'])}\")\n",
    "print(f\"Maior latitude (y): {np.max(bounds['maxy'])}\")"
   ]
  },
  {
   "cell_type": "markdown",
   "metadata": {},
   "source": [
    "Vamos separar os dados em duas partes, àqueles que tem uma longitude (x) menor que -50° e aqueles que tem uma longitude maior que isso:"
   ]
  },
  {
   "cell_type": "code",
   "execution_count": 56,
   "metadata": {},
   "outputs": [
    {
     "name": "stdout",
     "output_type": "stream",
     "text": [
      "1\n",
      "652384\n"
     ]
    }
   ],
   "source": [
    "low_lon_idx = bounds[bounds['minx'] < -50].index\n",
    "normal_lon_idx = bounds[bounds['minx'] >= -50].index\n",
    "\n",
    "# Aqui podemos ver que temos somente 1 ponto com uma longitude tão baixa:\n",
    "print(len(low_lon_idx))\n",
    "print(len(normal_lon_idx))"
   ]
  },
  {
   "cell_type": "markdown",
   "metadata": {},
   "source": [
    "Parece que temos apenas um único ponto com as coordenadas talvez incorretas, a variável `low_lon_idx` guarda agora o índice (com relação ao *dataframe* `arvore_df`) de todas as entradas (somente uma) com longitude inferior à -50°.\n",
    "\n",
    "Podemos ver abaixo que a entrada problemática é a 5017:"
   ]
  },
  {
   "cell_type": "code",
   "execution_count": 57,
   "metadata": {},
   "outputs": [
    {
     "data": {
      "text/plain": [
       "Int64Index([5017], dtype='int64')"
      ]
     },
     "execution_count": 57,
     "metadata": {},
     "output_type": "execute_result"
    }
   ],
   "source": [
    "low_lon_idx"
   ]
  },
  {
   "cell_type": "markdown",
   "metadata": {},
   "source": [
    "Vamos ver à qual registro esse(s) índice(s) corresponde(m):"
   ]
  },
  {
   "cell_type": "code",
   "execution_count": 58,
   "metadata": {},
   "outputs": [
    {
     "data": {
      "text/html": [
       "<div>\n",
       "<style scoped>\n",
       "    .dataframe tbody tr th:only-of-type {\n",
       "        vertical-align: middle;\n",
       "    }\n",
       "\n",
       "    .dataframe tbody tr th {\n",
       "        vertical-align: top;\n",
       "    }\n",
       "\n",
       "    .dataframe thead th {\n",
       "        text-align: right;\n",
       "    }\n",
       "</style>\n",
       "<table border=\"1\" class=\"dataframe\">\n",
       "  <thead>\n",
       "    <tr style=\"text-align: right;\">\n",
       "      <th></th>\n",
       "      <th>av_subpref</th>\n",
       "      <th>av_distr</th>\n",
       "      <th>av_sisgau</th>\n",
       "      <th>av_codlog</th>\n",
       "      <th>av_codlogd</th>\n",
       "      <th>av_base</th>\n",
       "      <th>geometry</th>\n",
       "    </tr>\n",
       "  </thead>\n",
       "  <tbody>\n",
       "    <tr>\n",
       "      <th>5017</th>\n",
       "      <td>LAPA</td>\n",
       "      <td>BARRA FUNDA</td>\n",
       "      <td>None</td>\n",
       "      <td>290378</td>\n",
       "      <td>3</td>\n",
       "      <td>ORTOFOTOS EMPLASA</td>\n",
       "      <td>POINT (-130.65658 -43.21817)</td>\n",
       "    </tr>\n",
       "  </tbody>\n",
       "</table>\n",
       "</div>"
      ],
      "text/plain": [
       "     av_subpref     av_distr av_sisgau av_codlog av_codlogd  \\\n",
       "5017       LAPA  BARRA FUNDA      None    290378          3   \n",
       "\n",
       "                av_base                      geometry  \n",
       "5017  ORTOFOTOS EMPLASA  POINT (-130.65658 -43.21817)  "
      ]
     },
     "execution_count": 58,
     "metadata": {},
     "output_type": "execute_result"
    }
   ],
   "source": [
    "arvore_df.iloc[low_lon_idx]"
   ]
  },
  {
   "cell_type": "markdown",
   "metadata": {},
   "source": [
    "Realmente deve ser um erro dado que o bairo da Barra Funda ainda fica em São Paulo e portanto não pode ter tais coordenadas.\n",
    "\n",
    "(Por curiosidade essas coordenadas ficam próximas ao centro da parte Sul do Oceano Pacífico)"
   ]
  },
  {
   "cell_type": "markdown",
   "metadata": {},
   "source": [
    "Agora vamos criar um subconjunto do dataframe `arvore_df`, que chamaremos de `subarvore_df` contendo somente as árvores cujas posições parecem estar corretas (cujos indices estão armazenados na variável `normal_lon_idx`):\n"
   ]
  },
  {
   "cell_type": "code",
   "execution_count": 59,
   "metadata": {},
   "outputs": [],
   "source": [
    "subarvore_df = arvore_df.iloc[normal_lon_idx]"
   ]
  },
  {
   "cell_type": "markdown",
   "metadata": {},
   "source": [
    "e vamos novamente tentar visualizar a distribuição espacial somente destas árvores:\n",
    "\n",
    "**!! Pode demorar um pouco para carregar dado o número de pontos !!**"
   ]
  },
  {
   "cell_type": "code",
   "execution_count": 60,
   "metadata": {},
   "outputs": [
    {
     "data": {
      "text/plain": [
       "<matplotlib.axes._subplots.AxesSubplot at 0x26ea7d15278>"
      ]
     },
     "execution_count": 60,
     "metadata": {},
     "output_type": "execute_result"
    },
    {
     "data": {
      "image/png": "[encoded data removed]",
      "text/plain": [
       "<Figure size 576x432 with 1 Axes>"
      ]
     },
     "metadata": {
      "needs_background": "light"
     },
     "output_type": "display_data"
    }
   ],
   "source": [
    "gplt.pointplot(subarvore_df)"
   ]
  },
  {
   "cell_type": "markdown",
   "metadata": {},
   "source": [
    "# Cortiços e outros dados de habitação"
   ]
  },
  {
   "cell_type": "code",
   "execution_count": null,
   "metadata": {},
   "outputs": [],
   "source": [
    "cortico = gpd.read_file('SIRGAS_SHP_cortico/SIRGAS_SHP_cortico.shp', encoding='utf-8')"
   ]
  },
  {
   "cell_type": "code",
   "execution_count": 93,
   "metadata": {},
   "outputs": [
    {
     "data": {
      "text/html": [
       "<div>\n",
       "<style scoped>\n",
       "    .dataframe tbody tr th:only-of-type {\n",
       "        vertical-align: middle;\n",
       "    }\n",
       "\n",
       "    .dataframe tbody tr th {\n",
       "        vertical-align: top;\n",
       "    }\n",
       "\n",
       "    .dataframe thead th {\n",
       "        text-align: right;\n",
       "    }\n",
       "</style>\n",
       "<table border=\"1\" class=\"dataframe\">\n",
       "  <thead>\n",
       "    <tr style=\"text-align: right;\">\n",
       "      <th></th>\n",
       "      <th>ct_id</th>\n",
       "      <th>ct_nome</th>\n",
       "      <th>ct_local</th>\n",
       "      <th>ct_qt_pess</th>\n",
       "      <th>ct_area</th>\n",
       "      <th>geometry</th>\n",
       "    </tr>\n",
       "  </thead>\n",
       "  <tbody>\n",
       "    <tr>\n",
       "      <th>0</th>\n",
       "      <td>1</td>\n",
       "      <td>Rua José Kauer 154</td>\n",
       "      <td>Rua José Kauer</td>\n",
       "      <td>19</td>\n",
       "      <td>135.44</td>\n",
       "      <td>POLYGON ((336284.584 7396098.994, 336288.573 7...</td>\n",
       "    </tr>\n",
       "    <tr>\n",
       "      <th>1</th>\n",
       "      <td>2</td>\n",
       "      <td>Rua Sinimbu 40</td>\n",
       "      <td>Rua Sinimbu</td>\n",
       "      <td>21</td>\n",
       "      <td>111.57</td>\n",
       "      <td>POLYGON ((333453.039 7393830.302, 333475.848 7...</td>\n",
       "    </tr>\n",
       "    <tr>\n",
       "      <th>2</th>\n",
       "      <td>3</td>\n",
       "      <td>Rua José Kauer 139</td>\n",
       "      <td>Rua José Kauer</td>\n",
       "      <td>13</td>\n",
       "      <td>230.70</td>\n",
       "      <td>POLYGON ((336276.123 7396114.123, 336270.353 7...</td>\n",
       "    </tr>\n",
       "    <tr>\n",
       "      <th>3</th>\n",
       "      <td>4</td>\n",
       "      <td>Rua Marcos Arruda 39</td>\n",
       "      <td>Rua Marcos Arruda</td>\n",
       "      <td>None</td>\n",
       "      <td>125.66</td>\n",
       "      <td>POLYGON ((336407.683 7396006.988, 336407.370 7...</td>\n",
       "    </tr>\n",
       "    <tr>\n",
       "      <th>4</th>\n",
       "      <td>5</td>\n",
       "      <td>Rua Jaguaribe 480</td>\n",
       "      <td>Rua Jaguaribe</td>\n",
       "      <td>0</td>\n",
       "      <td>232.99</td>\n",
       "      <td>POLYGON ((331316.587 7395593.255, 331322.357 7...</td>\n",
       "    </tr>\n",
       "    <tr>\n",
       "      <th>...</th>\n",
       "      <td>...</td>\n",
       "      <td>...</td>\n",
       "      <td>...</td>\n",
       "      <td>...</td>\n",
       "      <td>...</td>\n",
       "      <td>...</td>\n",
       "    </tr>\n",
       "    <tr>\n",
       "      <th>1474</th>\n",
       "      <td>1475</td>\n",
       "      <td>Avenida Celso Garcia 1356 1358</td>\n",
       "      <td>Avenida Celso Garcia</td>\n",
       "      <td>0</td>\n",
       "      <td>435.13</td>\n",
       "      <td>POLYGON ((336754.833 7395991.731, 336780.970 7...</td>\n",
       "    </tr>\n",
       "    <tr>\n",
       "      <th>1475</th>\n",
       "      <td>1476</td>\n",
       "      <td>Rua Dom Bosco 684</td>\n",
       "      <td>Rua Dom Bosco</td>\n",
       "      <td>None</td>\n",
       "      <td>1394.20</td>\n",
       "      <td>POLYGON ((335063.319 7393999.137, 335065.518 7...</td>\n",
       "    </tr>\n",
       "    <tr>\n",
       "      <th>1476</th>\n",
       "      <td>1477</td>\n",
       "      <td>Rua Doutor Frederico Steidel 214</td>\n",
       "      <td>Rua Doutor Frederico Steidel</td>\n",
       "      <td>10</td>\n",
       "      <td>209.97</td>\n",
       "      <td>POLYGON ((331852.787 7395772.954, 331825.708 7...</td>\n",
       "    </tr>\n",
       "    <tr>\n",
       "      <th>1477</th>\n",
       "      <td>1478</td>\n",
       "      <td>Rua Doutor Siqueira Campos 312 316</td>\n",
       "      <td>Rua Doutor Siqueira Campos</td>\n",
       "      <td>0</td>\n",
       "      <td>251.66</td>\n",
       "      <td>POLYGON ((332990.539 7393106.305, 332991.890 7...</td>\n",
       "    </tr>\n",
       "    <tr>\n",
       "      <th>1478</th>\n",
       "      <td>1479</td>\n",
       "      <td>Rua do Lirismo 31</td>\n",
       "      <td>Rua do Lirismo</td>\n",
       "      <td>None</td>\n",
       "      <td>129.12</td>\n",
       "      <td>POLYGON ((334285.840 7394227.380, 334285.547 7...</td>\n",
       "    </tr>\n",
       "  </tbody>\n",
       "</table>\n",
       "<p>1479 rows × 6 columns</p>\n",
       "</div>"
      ],
      "text/plain": [
       "     ct_id                             ct_nome                      ct_local  \\\n",
       "0        1                  Rua José Kauer 154                Rua José Kauer   \n",
       "1        2                      Rua Sinimbu 40                   Rua Sinimbu   \n",
       "2        3                  Rua José Kauer 139                Rua José Kauer   \n",
       "3        4                Rua Marcos Arruda 39             Rua Marcos Arruda   \n",
       "4        5                   Rua Jaguaribe 480                 Rua Jaguaribe   \n",
       "...    ...                                 ...                           ...   \n",
       "1474  1475      Avenida Celso Garcia 1356 1358          Avenida Celso Garcia   \n",
       "1475  1476                   Rua Dom Bosco 684                 Rua Dom Bosco   \n",
       "1476  1477    Rua Doutor Frederico Steidel 214  Rua Doutor Frederico Steidel   \n",
       "1477  1478  Rua Doutor Siqueira Campos 312 316    Rua Doutor Siqueira Campos   \n",
       "1478  1479                   Rua do Lirismo 31                Rua do Lirismo   \n",
       "\n",
       "     ct_qt_pess  ct_area                                           geometry  \n",
       "0            19   135.44  POLYGON ((336284.584 7396098.994, 336288.573 7...  \n",
       "1            21   111.57  POLYGON ((333453.039 7393830.302, 333475.848 7...  \n",
       "2            13   230.70  POLYGON ((336276.123 7396114.123, 336270.353 7...  \n",
       "3          None   125.66  POLYGON ((336407.683 7396006.988, 336407.370 7...  \n",
       "4             0   232.99  POLYGON ((331316.587 7395593.255, 331322.357 7...  \n",
       "...         ...      ...                                                ...  \n",
       "1474          0   435.13  POLYGON ((336754.833 7395991.731, 336780.970 7...  \n",
       "1475       None  1394.20  POLYGON ((335063.319 7393999.137, 335065.518 7...  \n",
       "1476         10   209.97  POLYGON ((331852.787 7395772.954, 331825.708 7...  \n",
       "1477          0   251.66  POLYGON ((332990.539 7393106.305, 332991.890 7...  \n",
       "1478       None   129.12  POLYGON ((334285.840 7394227.380, 334285.547 7...  \n",
       "\n",
       "[1479 rows x 6 columns]"
      ]
     },
     "execution_count": 93,
     "metadata": {},
     "output_type": "execute_result"
    }
   ],
   "source": [
    "cortico"
   ]
  },
  {
   "cell_type": "code",
   "execution_count": 94,
   "metadata": {},
   "outputs": [],
   "source": [
    "cortico.crs = 'epsg:31983'\n",
    "cortico = cortico.to_crs('epsg:4326')"
   ]
  },
  {
   "cell_type": "code",
   "execution_count": 95,
   "metadata": {},
   "outputs": [
    {
     "name": "stdout",
     "output_type": "stream",
     "text": [
      "epsg:4326\n"
     ]
    }
   ],
   "source": [
    "print(cortico.crs)"
   ]
  },
  {
   "cell_type": "code",
   "execution_count": 96,
   "metadata": {},
   "outputs": [
    {
     "data": {
      "text/html": [
       "<div>\n",
       "<style scoped>\n",
       "    .dataframe tbody tr th:only-of-type {\n",
       "        vertical-align: middle;\n",
       "    }\n",
       "\n",
       "    .dataframe tbody tr th {\n",
       "        vertical-align: top;\n",
       "    }\n",
       "\n",
       "    .dataframe thead th {\n",
       "        text-align: right;\n",
       "    }\n",
       "</style>\n",
       "<table border=\"1\" class=\"dataframe\">\n",
       "  <thead>\n",
       "    <tr style=\"text-align: right;\">\n",
       "      <th></th>\n",
       "      <th>ct_id</th>\n",
       "      <th>ct_nome</th>\n",
       "      <th>ct_local</th>\n",
       "      <th>ct_qt_pess</th>\n",
       "      <th>ct_area</th>\n",
       "      <th>geometry</th>\n",
       "    </tr>\n",
       "  </thead>\n",
       "  <tbody>\n",
       "    <tr>\n",
       "      <th>0</th>\n",
       "      <td>1</td>\n",
       "      <td>Rua José Kauer 154</td>\n",
       "      <td>Rua José Kauer</td>\n",
       "      <td>19</td>\n",
       "      <td>135.44</td>\n",
       "      <td>POLYGON ((-46.60378 -23.53717, -46.60375 -23.5...</td>\n",
       "    </tr>\n",
       "    <tr>\n",
       "      <th>1</th>\n",
       "      <td>2</td>\n",
       "      <td>Rua Sinimbu 40</td>\n",
       "      <td>Rua Sinimbu</td>\n",
       "      <td>21</td>\n",
       "      <td>111.57</td>\n",
       "      <td>POLYGON ((-46.63177 -23.55736, -46.63154 -23.5...</td>\n",
       "    </tr>\n",
       "    <tr>\n",
       "      <th>2</th>\n",
       "      <td>3</td>\n",
       "      <td>Rua José Kauer 139</td>\n",
       "      <td>Rua José Kauer</td>\n",
       "      <td>13</td>\n",
       "      <td>230.70</td>\n",
       "      <td>POLYGON ((-46.60387 -23.53703, -46.60392 -23.5...</td>\n",
       "    </tr>\n",
       "    <tr>\n",
       "      <th>3</th>\n",
       "      <td>4</td>\n",
       "      <td>Rua Marcos Arruda 39</td>\n",
       "      <td>Rua Marcos Arruda</td>\n",
       "      <td>None</td>\n",
       "      <td>125.66</td>\n",
       "      <td>POLYGON ((-46.60259 -23.53801, -46.60259 -23.5...</td>\n",
       "    </tr>\n",
       "    <tr>\n",
       "      <th>4</th>\n",
       "      <td>5</td>\n",
       "      <td>Rua Jaguaribe 480</td>\n",
       "      <td>Rua Jaguaribe</td>\n",
       "      <td>0</td>\n",
       "      <td>232.99</td>\n",
       "      <td>POLYGON ((-46.65249 -23.54122, -46.65244 -23.5...</td>\n",
       "    </tr>\n",
       "    <tr>\n",
       "      <th>...</th>\n",
       "      <td>...</td>\n",
       "      <td>...</td>\n",
       "      <td>...</td>\n",
       "      <td>...</td>\n",
       "      <td>...</td>\n",
       "      <td>...</td>\n",
       "    </tr>\n",
       "    <tr>\n",
       "      <th>1474</th>\n",
       "      <td>1475</td>\n",
       "      <td>Avenida Celso Garcia 1356 1358</td>\n",
       "      <td>Avenida Celso Garcia</td>\n",
       "      <td>0</td>\n",
       "      <td>435.13</td>\n",
       "      <td>POLYGON ((-46.59919 -23.53818, -46.59894 -23.5...</td>\n",
       "    </tr>\n",
       "    <tr>\n",
       "      <th>1475</th>\n",
       "      <td>1476</td>\n",
       "      <td>Rua Dom Bosco 684</td>\n",
       "      <td>Rua Dom Bosco</td>\n",
       "      <td>None</td>\n",
       "      <td>1394.20</td>\n",
       "      <td>POLYGON ((-46.61598 -23.55600, -46.61595 -23.5...</td>\n",
       "    </tr>\n",
       "    <tr>\n",
       "      <th>1476</th>\n",
       "      <td>1477</td>\n",
       "      <td>Rua Doutor Frederico Steidel 214</td>\n",
       "      <td>Rua Doutor Frederico Steidel</td>\n",
       "      <td>10</td>\n",
       "      <td>209.97</td>\n",
       "      <td>POLYGON ((-46.64722 -23.53966, -46.64749 -23.5...</td>\n",
       "    </tr>\n",
       "    <tr>\n",
       "      <th>1477</th>\n",
       "      <td>1478</td>\n",
       "      <td>Rua Doutor Siqueira Campos 312 316</td>\n",
       "      <td>Rua Doutor Siqueira Campos</td>\n",
       "      <td>0</td>\n",
       "      <td>251.66</td>\n",
       "      <td>POLYGON ((-46.63638 -23.56385, -46.63636 -23.5...</td>\n",
       "    </tr>\n",
       "    <tr>\n",
       "      <th>1478</th>\n",
       "      <td>1479</td>\n",
       "      <td>Rua do Lirismo 31</td>\n",
       "      <td>Rua do Lirismo</td>\n",
       "      <td>None</td>\n",
       "      <td>129.12</td>\n",
       "      <td>POLYGON ((-46.62357 -23.55386, -46.62357 -23.5...</td>\n",
       "    </tr>\n",
       "  </tbody>\n",
       "</table>\n",
       "<p>1479 rows × 6 columns</p>\n",
       "</div>"
      ],
      "text/plain": [
       "     ct_id                             ct_nome                      ct_local  \\\n",
       "0        1                  Rua José Kauer 154                Rua José Kauer   \n",
       "1        2                      Rua Sinimbu 40                   Rua Sinimbu   \n",
       "2        3                  Rua José Kauer 139                Rua José Kauer   \n",
       "3        4                Rua Marcos Arruda 39             Rua Marcos Arruda   \n",
       "4        5                   Rua Jaguaribe 480                 Rua Jaguaribe   \n",
       "...    ...                                 ...                           ...   \n",
       "1474  1475      Avenida Celso Garcia 1356 1358          Avenida Celso Garcia   \n",
       "1475  1476                   Rua Dom Bosco 684                 Rua Dom Bosco   \n",
       "1476  1477    Rua Doutor Frederico Steidel 214  Rua Doutor Frederico Steidel   \n",
       "1477  1478  Rua Doutor Siqueira Campos 312 316    Rua Doutor Siqueira Campos   \n",
       "1478  1479                   Rua do Lirismo 31                Rua do Lirismo   \n",
       "\n",
       "     ct_qt_pess  ct_area                                           geometry  \n",
       "0            19   135.44  POLYGON ((-46.60378 -23.53717, -46.60375 -23.5...  \n",
       "1            21   111.57  POLYGON ((-46.63177 -23.55736, -46.63154 -23.5...  \n",
       "2            13   230.70  POLYGON ((-46.60387 -23.53703, -46.60392 -23.5...  \n",
       "3          None   125.66  POLYGON ((-46.60259 -23.53801, -46.60259 -23.5...  \n",
       "4             0   232.99  POLYGON ((-46.65249 -23.54122, -46.65244 -23.5...  \n",
       "...         ...      ...                                                ...  \n",
       "1474          0   435.13  POLYGON ((-46.59919 -23.53818, -46.59894 -23.5...  \n",
       "1475       None  1394.20  POLYGON ((-46.61598 -23.55600, -46.61595 -23.5...  \n",
       "1476         10   209.97  POLYGON ((-46.64722 -23.53966, -46.64749 -23.5...  \n",
       "1477          0   251.66  POLYGON ((-46.63638 -23.56385, -46.63636 -23.5...  \n",
       "1478       None   129.12  POLYGON ((-46.62357 -23.55386, -46.62357 -23.5...  \n",
       "\n",
       "[1479 rows x 6 columns]"
      ]
     },
     "execution_count": 96,
     "metadata": {},
     "output_type": "execute_result"
    }
   ],
   "source": [
    "cortico"
   ]
  },
  {
   "cell_type": "code",
   "execution_count": 97,
   "metadata": {},
   "outputs": [
    {
     "data": {
      "text/plain": [
       "<matplotlib.axes._subplots.AxesSubplot at 0x2dfd50864a8>"
      ]
     },
     "execution_count": 97,
     "metadata": {},
     "output_type": "execute_result"
    },
    {
     "data": {
      "image/png": "[encoded data removed]",
      "text/plain": [
       "<Figure size 576x432 with 1 Axes>"
      ]
     },
     "metadata": {
      "needs_background": "light"
     },
     "output_type": "display_data"
    }
   ],
   "source": [
    "gplt.polyplot(cortico)"
   ]
  },
  {
   "cell_type": "code",
   "execution_count": 18,
   "metadata": {},
   "outputs": [],
   "source": [
    "import numpy as np"
   ]
  },
  {
   "cell_type": "code",
   "execution_count": null,
   "metadata": {},
   "outputs": [],
   "source": [
    "arvore"
   ]
  },
  {
   "cell_type": "code",
   "execution_count": 17,
   "metadata": {},
   "outputs": [
    {
     "data": {
      "text/plain": [
       "<matplotlib.axes._subplots.AxesSubplot at 0x26ebe1949b0>"
      ]
     },
     "execution_count": 17,
     "metadata": {},
     "output_type": "execute_result"
    },
    {
     "data": {
      "image/png": "[encoded data removed]",
      "text/plain": [
       "<Figure size 576x432 with 1 Axes>"
      ]
     },
     "metadata": {
      "needs_background": "light"
     },
     "output_type": "display_data"
    }
   ],
   "source": [
    "#https://residentmario.github.io/geoplot/plot_references/plot_reference.html\n",
    "gplt.pointplot(arvore)"
   ]
  }
 ],
 "metadata": {
  "kernelspec": {
   "display_name": "Python 3",
   "language": "python",
   "name": "python3"
  },
  "language_info": {
   "codemirror_mode": {
    "name": "ipython",
    "version": 3
   },
   "file_extension": ".py",
   "mimetype": "text/x-python",
   "name": "python",
   "nbconvert_exporter": "python",
   "pygments_lexer": "ipython3",
   "version": "3.6.9"
  }
 },
 "nbformat": 4,
 "nbformat_minor": 2
}
